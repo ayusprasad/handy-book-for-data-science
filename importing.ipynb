{
  "nbformat": 4,
  "nbformat_minor": 0,
  "metadata": {
    "colab": {
      "provenance": []
    },
    "kernelspec": {
      "name": "python3",
      "display_name": "Python 3"
    },
    "language_info": {
      "name": "python"
    }
  },
  "cells": [
    {
      "cell_type": "markdown",
      "source": [
        "# **notebook - 01:**\n",
        "\n"
      ],
      "metadata": {
        "id": "XgLv4LTLXtut"
      }
    },
    {
      "cell_type": "code",
      "source": [
        "import pandas as pd"
      ],
      "metadata": {
        "id": "rTeQB81GHcav"
      },
      "execution_count": null,
      "outputs": []
    },
    {
      "cell_type": "markdown",
      "source": [
        "**csv from URL**"
      ],
      "metadata": {
        "id": "Ub3hEJLzGzDR"
      }
    },
    {
      "cell_type": "code",
      "execution_count": null,
      "metadata": {
        "id": "JO3mBZESGlB8"
      },
      "outputs": [],
      "source": [
        "import requests\n",
        "from io import StringIO\n",
        "\n",
        "url = \"\"\n",
        "headers = {\"User-Agent\": \"Mozilla/5.0 (Macintosh; Intel Mac OS X 10.14; rv:66.0) Gecko/20100101 Firefox/66.0\"}\n",
        "req = requests.get(url, headers=headers)\n",
        "data = StringIO(req.text)\n",
        "\n",
        "pd.read_csv(data)\n"
      ]
    },
    {
      "cell_type": "markdown",
      "source": [
        "**tab saperated values**"
      ],
      "metadata": {
        "id": "pZjFsBmqHAFY"
      }
    },
    {
      "cell_type": "code",
      "source": [
        "df=pd.read_csv(\" \",sep=\"/t\",names=[\"\",\"\",\"\",\"\"])"
      ],
      "metadata": {
        "id": "39uaUFcLGtcp"
      },
      "execution_count": null,
      "outputs": []
    },
    {
      "cell_type": "markdown",
      "source": [
        "**index column parameter**"
      ],
      "metadata": {
        "id": "9zOG0xD9Gtpz"
      }
    },
    {
      "cell_type": "code",
      "source": [
        "df=pd.read_csv(\" \",index_col=\"column name\") # agr column hai hi nahi\n",
        "df=pd.read_csv(\" \",index_col=0)\n",
        "df=pd.read_csv(\" \",header=1) # agr column 1st row mai jaa rhe hai toh\n",
        "\n"
      ],
      "metadata": {
        "id": "UfpnBt9lHiFn"
      },
      "execution_count": null,
      "outputs": []
    },
    {
      "cell_type": "markdown",
      "source": [
        "***use selected column parameter ***"
      ],
      "metadata": {
        "id": "wP9ehvWtIhA7"
      }
    },
    {
      "cell_type": "code",
      "source": [
        "pd.read_csv(\" \",usecols=[\"col1\",\"col2\"])\n"
      ],
      "metadata": {
        "id": "dQ0zRRV_Il-Y"
      },
      "execution_count": null,
      "outputs": []
    },
    {
      "cell_type": "markdown",
      "source": [
        "**squeeze parameter only one column required**"
      ],
      "metadata": {
        "id": "onZcunYLJA9c"
      }
    },
    {
      "cell_type": "code",
      "source": [
        "pd.read_csv(\"  \",usecols=[\"cols\"],squeeze=True)"
      ],
      "metadata": {
        "id": "2WWBk2kMJIZc"
      },
      "execution_count": null,
      "outputs": []
    },
    {
      "cell_type": "markdown",
      "source": [
        "**skip rows / n rows parameters**"
      ],
      "metadata": {
        "id": "j6bKzSfiJk6m"
      }
    },
    {
      "cell_type": "code",
      "source": [
        "pd.read_csv(\" \",skiprows=[1,2,3])\n",
        "pd.read_csv(\" \",nrows=100) # first 100 rows"
      ],
      "metadata": {
        "id": "9KHMYL7UJsJ6"
      },
      "execution_count": null,
      "outputs": []
    },
    {
      "cell_type": "markdown",
      "source": [
        "**encoding parameter**"
      ],
      "metadata": {
        "id": "aHhh-qALJx-I"
      }
    },
    {
      "cell_type": "code",
      "source": [
        "pd.read_csv(\"\",encoding=\"ISO-8859-1\") #change the encoding\n"
      ],
      "metadata": {
        "id": "1q5XqkG9KpSN"
      },
      "execution_count": null,
      "outputs": []
    },
    {
      "cell_type": "markdown",
      "source": [
        "**skip bad lines**"
      ],
      "metadata": {
        "id": "Bc3hc79fKyWb"
      }
    },
    {
      "cell_type": "code",
      "source": [
        "pd.read_csv(\"\",sep=\" ; \",encoding=\" \",error_bad_lines=False) # skip bad lines"
      ],
      "metadata": {
        "id": "K_pTYYhtLMKT"
      },
      "execution_count": null,
      "outputs": []
    },
    {
      "cell_type": "markdown",
      "source": [
        "**d type read csv**"
      ],
      "metadata": {
        "id": "NB6-QJk5Ls-S"
      }
    },
    {
      "cell_type": "code",
      "source": [
        "pd.read_csv(\"\",dtype={\"col1\":\"float64\"}) #change data type"
      ],
      "metadata": {
        "id": "XJpvZQCILsuy"
      },
      "execution_count": null,
      "outputs": []
    },
    {
      "cell_type": "markdown",
      "source": [
        "**handling dates**"
      ],
      "metadata": {
        "id": "jSZQ7Q25MeXF"
      }
    },
    {
      "cell_type": "code",
      "source": [
        "pd.read_csv(\"\",parse_dates=[\"col1\"]) #change data type most probly date column\n",
        "pd.read_csv(\"\",parse_dates=[\"col1\",\"col2\"]).info()"
      ],
      "metadata": {
        "id": "pvJejkUZMizw"
      },
      "execution_count": null,
      "outputs": []
    },
    {
      "cell_type": "markdown",
      "source": [
        "**convertors**"
      ],
      "metadata": {
        "id": "xh4s_5vpNuv2"
      }
    },
    {
      "cell_type": "code",
      "source": [
        "def rename(name):\n",
        "    if name==\"Royal Challengers Bangalore\":\n",
        "        return \"RCB\"\n",
        "    else:\n",
        "        return name\n",
        "pd.read_csv(\"\",converters={\"col1\":rename})"
      ],
      "metadata": {
        "id": "mcg5KA6mNx0k"
      },
      "execution_count": null,
      "outputs": []
    },
    {
      "cell_type": "markdown",
      "source": [
        "**na_values parameters**"
      ],
      "metadata": {
        "id": "mBy5-vKeN59f"
      }
    },
    {
      "cell_type": "code",
      "source": [
        "pd.read_csv(\"\",na_values=[\"no value\",\"no values\"])"
      ],
      "metadata": {
        "id": "w8-OR0K_OQvv"
      },
      "execution_count": null,
      "outputs": []
    },
    {
      "cell_type": "markdown",
      "source": [
        "**loading a huge data set in chuks**"
      ],
      "metadata": {
        "id": "ZpYfU8A5OeAJ"
      }
    },
    {
      "cell_type": "code",
      "source": [
        "dfs=pd.read_csv(\"\",chunksize=5000)\n",
        "for chunks in dfs:\n",
        "    print(chunk.shape)"
      ],
      "metadata": {
        "id": "pZV6Qnz9PFZY"
      },
      "execution_count": null,
      "outputs": []
    }
  ]
}